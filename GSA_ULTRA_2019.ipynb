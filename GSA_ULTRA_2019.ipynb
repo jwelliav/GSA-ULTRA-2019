{
 "cells": [
  {
   "cell_type": "markdown",
   "metadata": {},
   "source": [
    "# GSA ULTRA 2019"
   ]
  },
  {
   "cell_type": "markdown",
   "metadata": {},
   "source": [
    "Following are some of my code entries for the GSA ULTRA 2019 competition. I have not included the challenges for the \n",
    "question, but these can be found here. "
   ]
  },
  {
   "cell_type": "markdown",
   "metadata": {},
   "source": [
    "# Pizza time "
   ]
  },
  {
   "cell_type": "markdown",
   "metadata": {},
   "source": [
    "Peter gives Miles a map of New York in the form of a grid A with dimensions N*M. Rows are numbered 1 to N from top to bottom, and columns are numbered 1 to M from left to right. A cell in the grid, which is the intersection of the i-th row and j-th column, is denoted by [i,j]. \n",
    "\n",
    "Each cell [i,j] contains A_{i,j} pizzas, where A_{i,j} \n",
    "is an integer. Miles is allowed to move in one of four directions, up, down, left or right, one step at a time. In one step, Miles can move from cell [i,j] to one of [i + 1, j], [i - 1, j], [i, j + 1] and [i, j - 1], given that he doesn't reach the boundaries of the grid.\n",
    "\n",
    "Peter adds the restriction that Miles can only move to a neighbouring cell if it has a strictly greater number of pizzas than the cell Miles is currently at. He asks Miles to find the length of the longest path possible in the grid, where length of a path is the number of cells constituting that path. A path starting and finishing at the same cell (i.e. consisting of only one cell) has length 11. Can you help Miles to solve this problem?"
   ]
  },
  {
   "cell_type": "code",
   "execution_count": 35,
   "metadata": {},
   "outputs": [],
   "source": [
    "# Generic version \n",
    "# V is a set of vertices and d is the set of adjacent edges\n",
    "#def DFS(V,):\n",
    "#    color = {}\n",
    "#    path = {}\n",
    "#    for v in V:\n",
    "#        color[v] = 0\n",
    "#        path[v] = 0\n",
    "#    for v in V:\n",
    "#        if color[v] == 0:\n",
    "#            DFS_visit(V,d,v)"
   ]
  },
  {
   "cell_type": "code",
   "execution_count": 34,
   "metadata": {},
   "outputs": [],
   "source": [
    "# Generic version \n",
    "\n",
    "#def DFS_visit(V,d,v):\n",
    "#    path[v] = path[v] + 1\n",
    "#    color[v] = 1\n",
    "#    tmp = 0\n",
    "#    for u in d[v]:\n",
    "#        if color[u] == 0:\n",
    "#            DFS_visit(V,d,u)\n",
    "#        temp = max(temp,path[u])\n",
    "#    path[v] = path[v] + temp    "
   ]
  },
  {
   "cell_type": "code",
   "execution_count": 29,
   "metadata": {},
   "outputs": [],
   "source": [
    "from itertools import product   "
   ]
  },
  {
   "cell_type": "code",
   "execution_count": 21,
   "metadata": {},
   "outputs": [
    {
     "name": "stdout",
     "output_type": "stream",
     "text": [
      "(1, 1)\n",
      "(1, 2)\n",
      "(1, 3)\n",
      "(1, 4)\n"
     ]
    }
   ],
   "source": [
    "solution(1,4)"
   ]
  },
  {
   "cell_type": "code",
   "execution_count": 12,
   "metadata": {},
   "outputs": [
    {
     "data": {
      "text/plain": [
       "[(1, 1), (3, 2), (2, 3)]"
      ]
     },
     "execution_count": 12,
     "metadata": {},
     "output_type": "execute_result"
    }
   ],
   "source": [
    "x = zip([1,3,2],[1,2,3])\n",
    "list(x)"
   ]
  },
  {
   "cell_type": "code",
   "execution_count": 36,
   "metadata": {},
   "outputs": [],
   "source": [
    "def DFS(V,A):\n",
    "    color = {}\n",
    "    path = {}\n",
    "    for v in V:\n",
    "        color[v] = 0\n",
    "        path[v] = 0\n",
    "    for v in V:\n",
    "        if color[v] == 0:\n",
    "            DFS_visit(V,A,v)"
   ]
  },
  {
   "cell_type": "code",
   "execution_count": 174,
   "metadata": {},
   "outputs": [],
   "source": [
    "def get_adj(N,M,v,A):\n",
    "    l = []\n",
    "    i = v[0]\n",
    "    j = v[1]\n",
    "  # print(i,j)\n",
    "    if i + 1 <= N and A[i+1][j] > A[i][j]:\n",
    "        l.append((i+1,j))\n",
    "    if i-1 <= 1 and A[i-1][j] > A[i][j]:\n",
    "        l.append((i-1,j))\n",
    "    if j+1 <= M and A[i][j+1] > A[i][j]:\n",
    "        l.append((i,j+1))\n",
    "    if j-1 >= 1 and A[i][j-1] > A[i][j]:\n",
    "        l.append((i,j-1))\n",
    "    return(l)    "
   ]
  },
  {
   "cell_type": "code",
   "execution_count": 188,
   "metadata": {},
   "outputs": [],
   "source": [
    "def DFS_visit(N,M,V,A,v,color,path):\n",
    "    path[v] = path[v] + 1\n",
    "    color[v] = 1\n",
    "    temp = 0\n",
    "    l = get_adj(N,M,v,A)\n",
    "    for u in l:\n",
    "        if color[u] == 0:\n",
    "            DFS_visit(N,M,V,A,u,color,path)\n",
    "        temp = max(temp,path[u])\n",
    "    color[v] = 2    \n",
    "    path[v] = path[v] + temp "
   ]
  },
  {
   "cell_type": "code",
   "execution_count": 192,
   "metadata": {},
   "outputs": [],
   "source": [
    "def solution(N,M,A,color,path):\n",
    "    l1 = list(range(1,N+1))\n",
    "    l2 = list(range(1,M+1))\n",
    "    color = {}\n",
    "    path = {}\n",
    "    V = []\n",
    "    for v in product(l1,l2):\n",
    "        V.append(v)\n",
    "        color[v] = 0\n",
    "        path[v] = 0\n",
    "    for v in V:\n",
    "        if color[v] == 0:\n",
    "            DFS_visit(N,M,V,A,v,color,path)\n",
    "    max_path = 1\n",
    "    for v in V:\n",
    "        max_path = max(path[v],max_path)\n",
    "    return(max_path) "
   ]
  },
  {
   "cell_type": "code",
   "execution_count": 198,
   "metadata": {},
   "outputs": [],
   "source": [
    "N = 2\n",
    "M = 2\n",
    "A = ((0,0,0),(0,1,2),(0,4,3))"
   ]
  },
  {
   "cell_type": "code",
   "execution_count": 199,
   "metadata": {},
   "outputs": [
    {
     "data": {
      "text/plain": [
       "4"
      ]
     },
     "execution_count": 199,
     "metadata": {},
     "output_type": "execute_result"
    }
   ],
   "source": [
    "solution(N,M,A,color,path)"
   ]
  },
  {
   "cell_type": "code",
   "execution_count": 196,
   "metadata": {},
   "outputs": [],
   "source": [
    "N = 1  \n",
    "M = 2 \n",
    "A = ((0,0,0),(0,1,2))"
   ]
  },
  {
   "cell_type": "code",
   "execution_count": 128,
   "metadata": {},
   "outputs": [],
   "source": [
    "def A():\n",
    "    d = {}\n",
    "    d[0] = 1\n",
    "    B(d)\n",
    "    return(d)\n",
    "\n",
    "def B(d):\n",
    "    d[0] = 2\n"
   ]
  },
  {
   "cell_type": "markdown",
   "metadata": {},
   "source": [
    "version with indexing from 0 onwards"
   ]
  },
  {
   "cell_type": "code",
   "execution_count": 212,
   "metadata": {},
   "outputs": [],
   "source": [
    "def get_adj(N,M,v,A):\n",
    "    l = []\n",
    "    i = v[0]\n",
    "    j = v[1]\n",
    "  # print(i,j)\n",
    "    if i + 1 <= N-1 and A[i+1][j] > A[i][j]:\n",
    "        l.append((i+1,j))\n",
    "    if i-1 >= 0 and A[i-1][j] > A[i][j]:\n",
    "        l.append((i-1,j))\n",
    "    if j+1 <= M-1 and A[i][j+1] > A[i][j]:\n",
    "        l.append((i,j+1))\n",
    "    if j-1 >= 0 and A[i][j-1] > A[i][j]:\n",
    "        l.append((i,j-1))\n",
    "    return(l)"
   ]
  },
  {
   "cell_type": "code",
   "execution_count": 213,
   "metadata": {},
   "outputs": [],
   "source": [
    "def DFS_visit(N,M,V,A,v,color,path):\n",
    "    path[v] = path[v] + 1\n",
    "    color[v] = 1\n",
    "    temp = 0\n",
    "    l = get_adj(N,M,v,A)\n",
    "    for u in l:\n",
    "        if color[u] == 0:\n",
    "            DFS_visit(N,M,V,A,u,color,path)\n",
    "        temp = max(temp,path[u])\n",
    "    color[v] = 2    \n",
    "    path[v] = path[v] + temp "
   ]
  },
  {
   "cell_type": "code",
   "execution_count": 214,
   "metadata": {},
   "outputs": [],
   "source": [
    "def solution(N,M,A):\n",
    "    l1 = list(range(N))\n",
    "    l2 = list(range(M))\n",
    "    color = {}\n",
    "    path = {}\n",
    "    V = []\n",
    "    for v in product(l1,l2):\n",
    "        V.append(v)\n",
    "        color[v] = 0\n",
    "        path[v] = 0\n",
    "    for v in V:\n",
    "        if color[v] == 0:\n",
    "            DFS_visit(N,M,V,A,v,color,path)\n",
    "    max_path = 1\n",
    "    for v in V:\n",
    "        max_path = max(path[v],max_path)\n",
    "    return(max_path)"
   ]
  },
  {
   "cell_type": "code",
   "execution_count": 215,
   "metadata": {},
   "outputs": [],
   "source": [
    "N = 2\n",
    "M = 2\n",
    "A = ((1,2),(4,3))"
   ]
  },
  {
   "cell_type": "code",
   "execution_count": 216,
   "metadata": {},
   "outputs": [
    {
     "data": {
      "text/plain": [
       "4"
      ]
     },
     "execution_count": 216,
     "metadata": {},
     "output_type": "execute_result"
    }
   ],
   "source": [
    "solution(N,M,A)"
   ]
  },
  {
   "cell_type": "markdown",
   "metadata": {},
   "source": [
    "# Cool, cool, cool"
   ]
  },
  {
   "cell_type": "markdown",
   "metadata": {},
   "source": [
    "Troy recently learned about bitonic sequences.\n",
    "\n",
    "Let S be a sequence of L_S integers. A contiguous subsequence of S, S_i, S_{i+1}, ..., S_j \n",
    "can be represented as S[i..j]S[i..j] where 1 <= i,j <= L_S. A sequence S is bitonic if \n",
    "for some i the subsequence S[1..i] is strictly increasing and the subsequence S[i..L_S]\n",
    "is strictly decreasing. Note that either subsequence could be of length 11.\n",
    "Abed gets tired of Troy's constant bragging about this new knowledge. He decides to test his friend with a challenge.\n",
    "Abed gives Troy an array A of L_A \n",
    "integers. In one operation, Troy can increment the value of a single element of A by 1. \n",
    "Abed asks Troy to convert AA into a bitonic sequence in as few operations as possible, and\n",
    "then tell Abed the number of operations it took him to do so.\n",
    "Troy knows his stuff, but being put on the spot by his best friend \n",
    "has really undermined his confidence. Can you help Troy with this task?\n",
    "\n",
    "Input : \n",
    "A : a tuple of N integers, where i-th \n",
    "integer denotes A_i \n",
    "\n",
    "Constraints\n",
    "1 \\leq N \\leq 2 \\times 10^6 1 <= N <= 2×10^6 \n",
    "\n",
    " \n",
    "1 \\leq A_i \\leq 10^9 "
   ]
  },
  {
   "cell_type": "code",
   "execution_count": 239,
   "metadata": {},
   "outputs": [],
   "source": [
    "# returns a dict d, such that d(j) = (cost,last) where cost is the price paid to get \n",
    "# the sequence A[0,...,j] is increasing order and last = A[j] \n",
    "def fill_dict(d,A):\n",
    "    N = len(A)\n",
    "    d[0] = (0,A[0])\n",
    "    for i in range(1,N):\n",
    "        cost = max(d[i-1][1]-A[i]+1,0)\n",
    "        temp = A[i] + cost\n",
    "        cost = d[i-1][0] + cost\n",
    "        d[i] = (cost,temp)\n",
    "    return(d)    "
   ]
  },
  {
   "cell_type": "code",
   "execution_count": 243,
   "metadata": {},
   "outputs": [],
   "source": [
    "def solution(A):\n",
    "    d = {}\n",
    "    e = {}\n",
    "    N = len(A)\n",
    "    fill_dict(d,A)\n",
    "    fill_dict(e,A[::-1])\n",
    "    cost = e[N-1][0]\n",
    "    for j in range(N-1):\n",
    "        if N > 1:\n",
    "            temp = d[j][0] + e[N-j-2][0]\n",
    "            if d[j][1] == e[N-j-2][1]:\n",
    "                temp = temp + 1\n",
    "        cost = min(cost,temp)\n",
    "    cost = min(cost,d[N-1][0])    \n",
    "    return(d,e,cost)    "
   ]
  },
  {
   "cell_type": "code",
   "execution_count": 244,
   "metadata": {},
   "outputs": [],
   "source": [
    "A = [1,4,3,5]"
   ]
  },
  {
   "cell_type": "code",
   "execution_count": 245,
   "metadata": {},
   "outputs": [
    {
     "data": {
      "text/plain": [
       "({0: (0, 1), 1: (0, 4), 2: (2, 5), 3: (3, 6)},\n",
       " {0: (0, 5), 1: (3, 6), 2: (6, 7), 3: (13, 8)},\n",
       " 3)"
      ]
     },
     "execution_count": 245,
     "metadata": {},
     "output_type": "execute_result"
    }
   ],
   "source": [
    "solution(A)"
   ]
  },
  {
   "cell_type": "markdown",
   "metadata": {},
   "source": [
    "# Get your fill"
   ]
  },
  {
   "cell_type": "markdown",
   "metadata": {},
   "source": [
    "You're given a string S of length N consisting of digits from 0 to 9 and the character '?'.\n",
    "\n",
    "You can fill S by replacing every instance of \"?\" with a digit from 0 to 9. Note that a filled version of S is not valid if it has leading zeroes.\n",
    "\n",
    "Your objective is to find the lexicographically smallest filled version of SS that is divisible by 8 when converted to an integer, and then return its value.\n",
    "\n",
    "We define the value of a string S of length N as (\\sum_{i = 1 --> N} 11^{i-1} * (S[i] + 1)) \\mod{10^{9} + 7}.\n",
    "If no such string can be found, return 1000000007.\n",
    "\n",
    "You may assume that the unfilled version of S does not have leading zeroes.\n",
    "\n",
    "Input\n",
    "S: a string of length N consisting of digits from 0 to 9 and the character \"?\".\n",
    "Constraints\n",
    "\n",
    "1 <= N <= 10^5 \n",
    "\n"
   ]
  },
  {
   "cell_type": "markdown",
   "metadata": {},
   "source": [
    "str(123)"
   ]
  },
  {
   "cell_type": "code",
   "execution_count": 288,
   "metadata": {},
   "outputs": [],
   "source": [
    "def zero_pad(m):\n",
    "    if m < 10:\n",
    "        s = str(m)\n",
    "        return('00' + s)\n",
    "    elif m >= 10 and m < 100:\n",
    "        s = str(m)\n",
    "        return('0' + s)\n",
    "    else:\n",
    "        s = str(m)\n",
    "        return(s)"
   ]
  },
  {
   "cell_type": "code",
   "execution_count": 287,
   "metadata": {},
   "outputs": [],
   "source": [
    "# Gets good and bad indices for a 3 element string\n",
    "def get_good_bad(s):\n",
    "    n = len(s)\n",
    "    good = []\n",
    "    bad = []\n",
    "    for j in range(n):\n",
    "        if s[j] == '?':\n",
    "            bad.append(j)\n",
    "        else:\n",
    "            good.append(j)\n",
    "    return(good)        "
   ]
  },
  {
   "cell_type": "code",
   "execution_count": 291,
   "metadata": {},
   "outputs": [],
   "source": [
    "def fill_last(s,l_S):\n",
    "    m = None\n",
    "    good = get_good_bad(s)\n",
    "    if l_S > 3:\n",
    "        for j in range(1000):\n",
    "            s1 = zero_pad(j)\n",
    "            x = True\n",
    "            for t in good:\n",
    "                if s1[t] != s[t]:\n",
    "                    x = False\n",
    "                    break\n",
    "            if x and j % 8 == 0: \n",
    "                m = j\n",
    "                break                   \n",
    "    elif l_S == 3:\n",
    "        for j in range(100,1000):\n",
    "            s1 = str(j)\n",
    "            x = True\n",
    "            for t in good:\n",
    "                if s1[t] != s[t]:\n",
    "                    x = False\n",
    "                    break\n",
    "            if x and j % 8 == 0: \n",
    "                if m != None:\n",
    "                    m = min(j,m)\n",
    "                else:\n",
    "                    m = j\n",
    "    elif l_S == 2:\n",
    "        for j in range(10,100):\n",
    "            s1 = str(j)\n",
    "            x = True\n",
    "            for t in good:\n",
    "                if s1[t] != s[t]:\n",
    "                    x = False\n",
    "                    break\n",
    "            if x and j % 8 == 0: \n",
    "                if m != None:\n",
    "                    m = min(j,m)\n",
    "                else:\n",
    "                    m = j        \n",
    "    elif l_S == 1:    \n",
    "        if s == '?':\n",
    "            m = 8\n",
    "        else:\n",
    "            if int(s)%8 == 0:\n",
    "                m = int(s)\n",
    "    if m != None:\n",
    "        return(zero_pad(m))\n",
    "    else:\n",
    "        return(m)"
   ]
  },
  {
   "cell_type": "code",
   "execution_count": 305,
   "metadata": {},
   "outputs": [],
   "source": [
    "def get_value(s):\n",
    "    N = len(s)\n",
    "    tmp0 = 1\n",
    "    x = (tmp0*(int(s[1]) + 1))%(10**9)\n",
    "    if N > 1:\n",
    "        for i in range(2,N):\n",
    "            tmp0 = (tmp0*11)%(10**9)\n",
    "            tmp = int(s[i])\n",
    "            x  = x + ((tmp0)*(tmp + 1))\n",
    "            x = x%(10**9)\n",
    "        return(x + 7)\n",
    "    else:\n",
    "        return(7)"
   ]
  },
  {
   "cell_type": "code",
   "execution_count": 322,
   "metadata": {},
   "outputs": [],
   "source": [
    "def solution(s):\n",
    "    m = len(s)\n",
    "    if m > 3:\n",
    "        t = ''\n",
    "        for j in range(m):\n",
    "            if s[j] == '?':\n",
    "                if j == 0:\n",
    "                    t = t + '1'\n",
    "                elif j < m-3:\n",
    "                    t = t + '0'\n",
    "            else:\n",
    "                t = t + s[j]\n",
    "        s1 = s[-3:] \n",
    "        r = fill_last(s1,m)\n",
    "        if r != None:\n",
    "            t = t + r    \n",
    "    else:\n",
    "        r = fill_last(s1,m)\n",
    "        if r != None:\n",
    "            t = t + r\n",
    "    if r != None:     \n",
    "        r1 = get_value(t)   \n",
    "        return(r1)\n",
    "    else:\n",
    "        return(1000000007)"
   ]
  },
  {
   "cell_type": "code",
   "execution_count": 339,
   "metadata": {},
   "outputs": [
    {
     "data": {
      "text/plain": [
       "12094377"
      ]
     },
     "execution_count": 339,
     "metadata": {},
     "output_type": "execute_result"
    }
   ],
   "source": [
    "s = '1243?3??44'\n",
    "solution(s)"
   ]
  },
  {
   "cell_type": "code",
   "execution_count": 336,
   "metadata": {},
   "outputs": [
    {
     "name": "stdout",
     "output_type": "stream",
     "text": [
      "0\n",
      "1\n",
      "2\n",
      "3\n"
     ]
    }
   ],
   "source": [
    "for t in range(5):\n",
    "    print(t)\n",
    "    if t > 2:\n",
    "        break"
   ]
  },
  {
   "cell_type": "code",
   "execution_count": 338,
   "metadata": {},
   "outputs": [
    {
     "data": {
      "text/plain": [
       "357947691"
      ]
     },
     "execution_count": 338,
     "metadata": {},
     "output_type": "execute_result"
    }
   ],
   "source": [
    "(11**9)%(10**9)"
   ]
  },
  {
   "cell_type": "markdown",
   "metadata": {},
   "source": [
    "# Its a kind of magic"
   ]
  },
  {
   "cell_type": "markdown",
   "metadata": {},
   "source": [
    "You're given a set S of N_S \n",
    "strings, where each string consists only of digits from 0 to 9. The i-{th} \n",
    "string in the set S is assigned a score of x_i\n",
    "For any string T, we define its magic value to be the sum of the scores of all strings from the set SS which are present in TT as substrings. Note that if a string occurs in TT as a substring multiple times starting at different indices, its score is counted in the sum multiple times, once for each occurrence.\n",
    "\n",
    "You're given Q, a set of N_Q \n",
    "queries of the form (L, R)(L,R).\n",
    "For each query Q_i = (L_i, R_i), \n",
    "let str(j) be the string representation (with no leading zeroes) of integer j, where L_i \\leq j \\leq R_i. \n",
    "\n",
    "Let ans(i) be the sum of magic values of str(j) for all j, L_i \\leq j \\leq R_i.\n",
    "\n",
    "Return (\\sum_{i=1}^{N_Q} 2^i \\times ans(i)) \\mod{10^9 + 7}\n",
    "\n",
    "Input\n",
    "S: A tuple of N_S strings.\n",
    "X: A tuple of N_S integers where i-th denotes x_i, the score of the i-th string in S.\n",
    "Q: A tuple of N_Q elements Q_1, Q_2, ..., Q_{N_Q} where Q_i \n",
    " is a tuple (L_i, R_i)(L \n",
    " denoting the i-th  query.\n",
    "                       \n",
    "Constraints\n",
    "                       \n",
    "1 \\leq N_S, N_Q \\leq 3 \\times 10^3   \n",
    "\n",
    "1 \\leq length(S_i) \\leq 18 for all i \n",
    "\n",
    "1 \\leq x_i \\leq 10^{9} for all i \n",
    "\n",
    "1 \\leq L_i, R_i \\leq 10^{18} for all i"
   ]
  },
  {
   "cell_type": "code",
   "execution_count": 415,
   "metadata": {},
   "outputs": [],
   "source": [
    "def count_nos_if_zero(n,i,s):\n",
    "    count = 0\n",
    "    if i + len(s) > len(n):\n",
    "        return(count)\n",
    "    else:\n",
    "        if i > 0:\n",
    "            a = int(n[0])\n",
    "            e = res(len(n)-len(s)-1)\n",
    "            c = (a-1)*(10**e)\n",
    "            count = count + c\n",
    "            d = count_nos(n[1:],i-1,s)\n",
    "            count = count + d\n",
    "        else:\n",
    "            count = 0\n",
    "    return(count)"
   ]
  },
  {
   "cell_type": "code",
   "execution_count": 440,
   "metadata": {},
   "outputs": [],
   "source": [
    "def count_nos(n,i,s):\n",
    "    count = 0\n",
    "    if i + len(s) > len(n):\n",
    "        return(count)\n",
    "    else:\n",
    "        if i > 0:\n",
    "            a = int(n[0])\n",
    "            e = res(len(n)-len(s)-1)\n",
    "            c = a*(10**e)\n",
    "            count = count + c\n",
    "            d = count_nos(n[1:],i-1,s)\n",
    "            count = count + d\n",
    "        if i == 0:\n",
    "            if len(s) == 0:\n",
    "                if len(n) > 0:\n",
    "                    return(int(n)+1)\n",
    "                else:\n",
    "                    return(1)\n",
    "            else:\n",
    "                if s[0] < n[0]:\n",
    "                    e1 = res(len(n)-len(s))\n",
    "                    count = 10**(e1)\n",
    "                elif s[0] == n[0]:\n",
    "                    r1 = s[1:]\n",
    "                    r2 = n[1:]\n",
    "                    count = count_nos(r2,0,r1)   \n",
    "                else:\n",
    "                    count = 0\n",
    "    return(count)           \n",
    "            "
   ]
  },
  {
   "cell_type": "code",
   "execution_count": 441,
   "metadata": {},
   "outputs": [
    {
     "data": {
      "text/plain": [
       "1"
      ]
     },
     "execution_count": 441,
     "metadata": {},
     "output_type": "execute_result"
    }
   ],
   "source": [
    "count_nos('11',0,'11')    "
   ]
  },
  {
   "cell_type": "code",
   "execution_count": 418,
   "metadata": {},
   "outputs": [
    {
     "data": {
      "text/plain": [
       "10"
      ]
     },
     "execution_count": 418,
     "metadata": {},
     "output_type": "execute_result"
    }
   ],
   "source": [
    "n = '121'\n",
    "s = '05'\n",
    "i = 0\n",
    "count_nos(n,i,s)"
   ]
  },
  {
   "cell_type": "code",
   "execution_count": 411,
   "metadata": {},
   "outputs": [
    {
     "data": {
      "text/plain": [
       "0"
      ]
     },
     "execution_count": 411,
     "metadata": {},
     "output_type": "execute_result"
    }
   ],
   "source": [
    "e = '2'\n",
    "len(e[1:])"
   ]
  },
  {
   "cell_type": "code",
   "execution_count": null,
   "metadata": {},
   "outputs": [],
   "source": []
  },
  {
   "cell_type": "code",
   "execution_count": null,
   "metadata": {},
   "outputs": [],
   "source": []
  },
  {
   "cell_type": "code",
   "execution_count": 364,
   "metadata": {},
   "outputs": [],
   "source": [
    "def solution(S,X,Q):\n",
    "    N1 = len(Q)\n",
    "    ans = []\n",
    "    for j in range(N1):\n",
    "        (L,R) = Q[j]\n",
    "        tmp = get_ans(L,R,S,X)\n",
    "        ans.append(tmp)\n",
    "    value = get_value(ans)\n",
    "    return(value)"
   ]
  },
  {
   "cell_type": "code",
   "execution_count": 430,
   "metadata": {},
   "outputs": [],
   "source": [
    "def count_upto(M,s):\n",
    "    P = str(M)\n",
    "    m = len(P)\n",
    "    if s[0] != '0':\n",
    "        count = 0\n",
    "        for i in range(m):\n",
    "            count = count + count_nos(P,i,s)\n",
    "    if s[0] == '0':\n",
    "        count = 0\n",
    "        for i in range(m):\n",
    "            count = count + count_nos_if_zero(P,i,s)\n",
    "    return(count)        "
   ]
  },
  {
   "cell_type": "code",
   "execution_count": 445,
   "metadata": {},
   "outputs": [
    {
     "data": {
      "text/plain": [
       "1"
      ]
     },
     "execution_count": 445,
     "metadata": {},
     "output_type": "execute_result"
    }
   ],
   "source": [
    "count_nos(str(10**17),1,'11')"
   ]
  },
  {
   "cell_type": "code",
   "execution_count": 428,
   "metadata": {},
   "outputs": [],
   "source": [
    "#def count_upto(M,s):\n",
    "#    P = str(M)\n",
    "#    m = len(P)\n",
    "#    count = 0\n",
    "#    for i in range(m):\n",
    "#        count = count + count_nos(P,i,s)\n",
    "#        print(i,count)\n",
    "#    if s[0] == '0':\n",
    "#        err = count_nos(P,0,s)\n",
    "#        print(err)\n",
    "#        count = count - err \n",
    "#    return(count) "
   ]
  },
  {
   "cell_type": "code",
   "execution_count": null,
   "metadata": {},
   "outputs": [],
   "source": [
    "def count_at(M,s):\n",
    "    P = str(M)\n",
    "    m = len(P)\n",
    "    n = len(s)\n",
    "    count = 0\n",
    "    for j in range(m-n+1):\n",
    "        if s == P[j:j+n-1]:\n",
    "            count = count + 1\n",
    "    return(count)               \n",
    " "
   ]
  },
  {
   "cell_type": "code",
   "execution_count": 358,
   "metadata": {},
   "outputs": [],
   "source": [
    "def total_count(L,R,s):\n",
    "    count1 = count_upto(R,s)\n",
    "    count2 = count_upto(L,s)\n",
    "    count3 = count_at(L,s)\n",
    "    count = count1 - count2 + count3\n",
    "    return(count)"
   ]
  },
  {
   "cell_type": "code",
   "execution_count": 360,
   "metadata": {},
   "outputs": [],
   "source": [
    "def res(m):\n",
    "    if m > 8:\n",
    "        return(0)\n",
    "    else:\n",
    "        return(m)"
   ]
  },
  {
   "cell_type": "code",
   "execution_count": 361,
   "metadata": {},
   "outputs": [],
   "source": [
    "def get_ans(L,R,S,X):\n",
    "    ans = 0\n",
    "    n = len(S)\n",
    "    for i in range(n):\n",
    "        s = S[i]\n",
    "        x = X[i]\n",
    "        c = (total_count(L,R,s))%(10**9)\n",
    "        c = (c*x)%(10**9)\n",
    "        ans = (ans + c)%(10**9)\n",
    "    return(ans)    \n",
    "        "
   ]
  },
  {
   "cell_type": "code",
   "execution_count": 362,
   "metadata": {},
   "outputs": [
    {
     "data": {
      "text/plain": [
       "'232'"
      ]
     },
     "execution_count": 362,
     "metadata": {},
     "output_type": "execute_result"
    }
   ],
   "source": [
    "def get_value(ans):\n",
    "    N = len(ans)\n",
    "    x = 1\n",
    "    count = 0\n",
    "    for i in range(N):\n",
    "        x = (x*2)%(10**9)\n",
    "        tmp = x*ans[i]\n",
    "        count = (count + tmp)%(10**9)\n",
    "    return(count + 7)    \n",
    "            \n",
    "        "
   ]
  },
  {
   "cell_type": "code",
   "execution_count": null,
   "metadata": {},
   "outputs": [],
   "source": [
    "def res(m):\n",
    "    if m > 8:\n",
    "        return(0)\n",
    "    else:\n",
    "        return(m)\n",
    "\n",
    "def count_nos_if_zero(n,i,s):\n",
    "    count = 0\n",
    "    if i + len(s) > len(n):\n",
    "        return(count)\n",
    "    else:\n",
    "        if i > 0:\n",
    "            a = int(n[0])\n",
    "            e = res(len(n)-len(s)-1)\n",
    "            c = (a-1)*(10**e)\n",
    "            count = count + c\n",
    "            d = count_nos(n[1:],i-1,s)\n",
    "            count = count + d\n",
    "        else:\n",
    "            count = 0\n",
    "    return(count)\n",
    "\n",
    "def count_nos(n,i,s):\n",
    "    count = 0\n",
    "    if i + len(s) > len(n):\n",
    "        return(count)\n",
    "    else:\n",
    "        if i > 0:\n",
    "            a = int(n[0])\n",
    "            e = res(len(n)-len(s)-1)\n",
    "            c = a*(10**e)\n",
    "            count = count + c\n",
    "            d = count_nos(n[1:],i-1,s)\n",
    "            count = count + d\n",
    "        if i == 0:\n",
    "            if len(s) == 0:\n",
    "                if len(n) > 0:\n",
    "                    return(int(n)+1)\n",
    "                else:\n",
    "                    return(1)\n",
    "            else:\n",
    "                if s[0] < n[0]:\n",
    "                    e1 = res(len(n)-len(s))\n",
    "                    count = 10**(e1)\n",
    "                elif s[0] == n[0]:\n",
    "                    r1 = s[1:]\n",
    "                    r2 = n[1:]\n",
    "                    count = count_nos(r2,0,r1)   \n",
    "                else:\n",
    "                    count = 0\n",
    "    return(count) \n",
    "    \n",
    "def count_upto(M,s):\n",
    "    P = str(M)\n",
    "    m = len(P)\n",
    "    if s[0] != '0':\n",
    "        count = 0\n",
    "        for i in range(m):\n",
    "            count = count + count_nos(P,i,s)\n",
    "    if s[0] == '0':\n",
    "        count = 0\n",
    "        for i in range(m):\n",
    "            count = count + count_nos_if_zero(P,i,s)\n",
    "    return(count)    \n",
    "    \n",
    "\n",
    "def count_at(M,s):\n",
    "    P = str(M)\n",
    "    m = len(P)\n",
    "    n = len(s)\n",
    "    count = 0\n",
    "    for j in range(m-n+1):\n",
    "        if s == P[j:j+n-1]:\n",
    "            count = count + 1\n",
    "    return(count) \n",
    "    \n",
    "def total_count(L,R,s):\n",
    "    count1 = count_upto(R,s)\n",
    "    count2 = count_upto(L,s)\n",
    "    count3 = count_at(L,s)\n",
    "    count = count1 - count2 + count3\n",
    "    return(count)  \n",
    "\n",
    "def get_ans(L,R,S,X):\n",
    "    ans = 0\n",
    "    n = len(S)\n",
    "    for i in range(n):\n",
    "        s = S[i]\n",
    "        x = X[i]\n",
    "        c = (total_count(L,R,s))%(10**9)\n",
    "        c = (c*x)%(10**9)\n",
    "        ans = (ans + c)%(10**9)\n",
    "    return(ans)\n",
    "    \n",
    "def get_value(ans):\n",
    "    N = len(ans)\n",
    "    x = 1\n",
    "    count = 0\n",
    "    for i in range(N):\n",
    "        x = (x*2)%(10**9)\n",
    "        tmp = x*ans[i]\n",
    "        count = (count + tmp)%(10**9)\n",
    "    return(count + 7) \n",
    "    \n",
    "def solution(S,X,Q):\n",
    "    N1 = len(Q)\n",
    "    ans = []\n",
    "    for j in range(N1):\n",
    "        (L,R) = Q[j]\n",
    "        tmp = get_ans(L,R,S,X)\n",
    "        ans.append(tmp)\n",
    "    value = get_value(ans)\n",
    "    return(value)     \n",
    "    "
   ]
  },
  {
   "cell_type": "code",
   "execution_count": 446,
   "metadata": {},
   "outputs": [
    {
     "data": {
      "text/plain": [
       "1000000007"
      ]
     },
     "execution_count": 446,
     "metadata": {},
     "output_type": "execute_result"
    }
   ],
   "source": [
    "10**9 + 7 "
   ]
  },
  {
   "cell_type": "markdown",
   "metadata": {},
   "source": [
    "# Deforestation"
   ]
  },
  {
   "cell_type": "markdown",
   "metadata": {},
   "source": [
    "Take an undirected tree T with N_T nodes and consider one of its nodes, x. To find a subtree of x relative to\n",
    "some other node r we first root the tree T at r. The subtree of x relative to r is then defined as the set of \n",
    "all nodes n for which x lies on the path from n to r. The size of a subtree\n",
    "is the number of nodes this set contains.\n",
    "\n",
    "You're given a tree T along with a list Q of integers Q_1, Q_2, ..., Q_i, ..., Q_{N_Q}.\n",
    "Each element in Q is a query.\n",
    "For each query Q_i,\n",
    "Determine the probability that, for nodes x and r chosen uniformly at random, the subtree size of x\n",
    "relative to r is Q_i. Represent this probability as a fraction A/B\n",
    "\n",
    "Compute the answer for this query, which is the multiplicative product of A and B^{-1} mod{10^9 + 7}\n",
    "(where the latter term is the modular multiplicative inverse of BB with respect to 10^9 + 7).\n",
    "Represent this value as ans(i).\n",
    "Output the sum of i \\times ans(i) for all i, where 1 \\leq i \\leq N_Q. \n",
    "Since this number might be large, output it modulo 10^9 + 7."
   ]
  },
  {
   "cell_type": "code",
   "execution_count": 542,
   "metadata": {},
   "outputs": [],
   "source": [
    "def build_adj_list(T):\n",
    "    V = set()\n",
    "    adj = {}\n",
    "    for j in range(len(T)):\n",
    "        u = T[j][0]\n",
    "        V.add(u)\n",
    "        v = T[j][1]\n",
    "        V.add(v)\n",
    "        if u in adj.keys():\n",
    "            adj[u].append(v)\n",
    "        else:\n",
    "            adj[u] = []\n",
    "            adj[u].append(v)\n",
    "        if v in adj.keys():\n",
    "            adj[v].append(u)\n",
    "        else:\n",
    "            adj[v] = []\n",
    "            adj[v].append(u) \n",
    "    V = list(V)        \n",
    "    return(V,adj)        "
   ]
  },
  {
   "cell_type": "code",
   "execution_count": 495,
   "metadata": {},
   "outputs": [],
   "source": [
    "def DFS(V,adj):\n",
    "    color = {}\n",
    "    children = {}\n",
    "    for v in V:\n",
    "        color[v] = 0\n",
    "        children[v] = []\n",
    "    for v in V:\n",
    "        if color[v] == 0:\n",
    "            DFS_visit(V,adj,v,color,children)\n",
    "    return(V[0],children)        "
   ]
  },
  {
   "cell_type": "code",
   "execution_count": 496,
   "metadata": {},
   "outputs": [],
   "source": [
    "# Generic version \n",
    "\n",
    "def DFS_visit(V,d,v,color,children):\n",
    "    color[v] = 1\n",
    "    for u in d[v]:\n",
    "        if color[u] == 0:\n",
    "            children[v].append(u)\n",
    "            DFS_visit(V,d,u,color,children)    "
   ]
  },
  {
   "cell_type": "code",
   "execution_count": 502,
   "metadata": {},
   "outputs": [],
   "source": [
    "def tree_size(root,children,size):\n",
    "    x = 1\n",
    "    for j in children[root]:\n",
    "        tree_size(j,children,size)\n",
    "        x = x + size[j]\n",
    "    size[root] = x    \n",
    "    return(size)    "
   ]
  },
  {
   "cell_type": "code",
   "execution_count": null,
   "metadata": {},
   "outputs": [],
   "source": []
  },
  {
   "cell_type": "code",
   "execution_count": 587,
   "metadata": {},
   "outputs": [],
   "source": [
    "#def get_forward_subtrees(node,children,size):\n",
    "#    stree = {size[node]:1}\n",
    "#    for j in children[node]:\n",
    "#        dtemp = get_forward_subtrees(j,children,size)\n",
    "#        m = size[node] - size[j]\n",
    "#        dtemp = add_dict(dtemp,m)\n",
    "#        stree = union_dict(dtemp,stree)\n",
    "#    print(stree)    \n",
    "#    return(stree)    "
   ]
  },
  {
   "cell_type": "code",
   "execution_count": 600,
   "metadata": {},
   "outputs": [],
   "source": [
    "# length of sub tree\n",
    "def get_forward_subtrees(stree,node,children,size,L):\n",
    "    if size[node] in stree.keys():\n",
    "        stree[size[node]] = stree[size[node]] + L - size[node]\n",
    "    else:\n",
    "        stree[size[node]] = L-size[node]\n",
    "    for j in children[node]:\n",
    "        get_forward_subtrees(stree,j,children,size,L)"
   ]
  },
  {
   "cell_type": "code",
   "execution_count": 594,
   "metadata": {},
   "outputs": [],
   "source": [
    "# L = length of sub tree\n",
    "def forward_subtree_correct(stree,size,V):\n",
    "    stree.pop('key', None)\n",
    "    L = len(V)\n",
    "    stree[L] = 0\n",
    "    for u in V:\n",
    "        stree[L] = stree[L] + 1"
   ]
  },
  {
   "cell_type": "code",
   "execution_count": 557,
   "metadata": {},
   "outputs": [],
   "source": [
    "#L = length of sub tree\n",
    "#def forward_subtree_correct(stree,size,L):\n",
    "#    for u in size.keys():\n",
    "#        stree[size[u]] = stree[size[u]] - 1\n",
    "#        stree[L] = stree[L] + 1"
   ]
  },
  {
   "cell_type": "code",
   "execution_count": 558,
   "metadata": {},
   "outputs": [],
   "source": [
    "def get_reverse_subtrees(node,children,size):\n",
    "    rtree = {}\n",
    "    for j in children[node]:\n",
    "        if size[node]-size[j] in rtree.keys():\n",
    "            rtree[size[node]-size[j]] = rtree[size[node]-size[j]] + size[j]\n",
    "        else:\n",
    "            rtree[size[node]-size[j]] = size[j]\n",
    "        dtemp = get_reverse_subtrees(j,children,size)\n",
    "        for t in dtemp.keys():\n",
    "            if t + size[node]-size[j] in rtree.keys():\n",
    "                rtree[t + size[node]-size[j]] += dtemp[t]\n",
    "            else:\n",
    "                rtree[t+size[node]-size[j]] = dtemp[t]\n",
    "    return(rtree)            "
   ]
  },
  {
   "cell_type": "code",
   "execution_count": 527,
   "metadata": {},
   "outputs": [],
   "source": [
    "def add_dict(d,m):\n",
    "    for u in d.keys():\n",
    "        d[u] = d[u] + m\n",
    "    return(d)    "
   ]
  },
  {
   "cell_type": "code",
   "execution_count": 528,
   "metadata": {},
   "outputs": [],
   "source": [
    "def union_dict(d1,d2):\n",
    "    for u in d2.keys():\n",
    "        if u in d1.keys():\n",
    "            d1[u] = d1[u] + d2[u]\n",
    "        else:\n",
    "            d1[u] = d2[u] \n",
    "    return(d1)        "
   ]
  },
  {
   "cell_type": "code",
   "execution_count": 601,
   "metadata": {},
   "outputs": [],
   "source": [
    "def get_subtrees(V,children,size):\n",
    "    L = len(V)\n",
    "    stree = {}\n",
    "    get_forward_subtrees(stree,root,children,size,L)\n",
    "    forward_subtree_correct(stree,size,V)\n",
    "    reverse_trees = get_reverse_subtrees(root,children,size)\n",
    "    total = union_dict(stree,reverse_trees)\n",
    "    return(total)"
   ]
  },
  {
   "cell_type": "code",
   "execution_count": 607,
   "metadata": {},
   "outputs": [],
   "source": [
    "from fractions import Fraction\n",
    "def solution(T,Q): \n",
    "    V,adj = build_adj_list(T)\n",
    "    root,children = DFS(V,adj)\n",
    "    size = {}\n",
    "    size = tree_size(root,children,size)\n",
    "    total = get_subtrees(V,children,size)\n",
    "    ans = [0]\n",
    "    p = 10**9 + 7 \n",
    "    s = 0\n",
    "    L = len(V)\n",
    "    for i in range(len(Q)): \n",
    "        if Q[i] in total.keys():\n",
    "            f = Fraction(total[Q[i]],L)\n",
    "            a = f.numerator\n",
    "            b = f.denominator\n",
    "            b1 = pow(b,p-2,p)\n",
    "            ans = (a*b1)%p\n",
    "            s = (s + ((i+1)*ans))%p\n",
    "    return(s)    "
   ]
  },
  {
   "cell_type": "code",
   "execution_count": 608,
   "metadata": {},
   "outputs": [
    {
     "data": {
      "text/plain": [
       "333333339"
      ]
     },
     "execution_count": 608,
     "metadata": {},
     "output_type": "execute_result"
    }
   ],
   "source": [
    "solution(T,[1,3])"
   ]
  },
  {
   "cell_type": "code",
   "execution_count": 609,
   "metadata": {},
   "outputs": [],
   "source": [
    "T = ((1,2),(2,3),(3,4))\n",
    "V,adj = build_adj_list(T)"
   ]
  },
  {
   "cell_type": "code",
   "execution_count": 610,
   "metadata": {},
   "outputs": [],
   "source": [
    "(root,children) = DFS(V,adj)"
   ]
  },
  {
   "cell_type": "code",
   "execution_count": 611,
   "metadata": {},
   "outputs": [],
   "source": [
    "size = {}\n",
    "size = tree_size(root,children,size)"
   ]
  },
  {
   "cell_type": "code",
   "execution_count": 612,
   "metadata": {},
   "outputs": [
    {
     "data": {
      "text/plain": [
       "{1: [2], 2: [3], 3: [4], 4: []}"
      ]
     },
     "execution_count": 612,
     "metadata": {},
     "output_type": "execute_result"
    }
   ],
   "source": [
    "children"
   ]
  },
  {
   "cell_type": "code",
   "execution_count": 613,
   "metadata": {},
   "outputs": [],
   "source": [
    "stree = {}\n",
    "L = len(V)\n",
    "get_forward_subtrees(stree,root,children,size,L)"
   ]
  },
  {
   "cell_type": "code",
   "execution_count": 614,
   "metadata": {},
   "outputs": [],
   "source": [
    "forward_subtree_correct(stree,size,V)"
   ]
  },
  {
   "cell_type": "code",
   "execution_count": 615,
   "metadata": {},
   "outputs": [
    {
     "data": {
      "text/plain": [
       "{4: 4, 3: 1, 2: 2, 1: 3}"
      ]
     },
     "execution_count": 615,
     "metadata": {},
     "output_type": "execute_result"
    }
   ],
   "source": [
    "stree"
   ]
  },
  {
   "cell_type": "code",
   "execution_count": 616,
   "metadata": {},
   "outputs": [
    {
     "data": {
      "text/plain": [
       "{1: 3, 2: 2, 3: 1}"
      ]
     },
     "execution_count": 616,
     "metadata": {},
     "output_type": "execute_result"
    }
   ],
   "source": [
    "get_reverse_subtrees(root,children,size)"
   ]
  },
  {
   "cell_type": "code",
   "execution_count": 617,
   "metadata": {},
   "outputs": [
    {
     "data": {
      "text/plain": [
       "{4: 4, 3: 2, 2: 4, 1: 6}"
      ]
     },
     "execution_count": 617,
     "metadata": {},
     "output_type": "execute_result"
    }
   ],
   "source": [
    "get_subtrees(V,children,size)"
   ]
  },
  {
   "cell_type": "code",
   "execution_count": 571,
   "metadata": {},
   "outputs": [],
   "source": [
    "from fractions import Fraction\n",
    "f = Fraction(20,10)"
   ]
  },
  {
   "cell_type": "code",
   "execution_count": 573,
   "metadata": {},
   "outputs": [
    {
     "data": {
      "text/plain": [
       "1"
      ]
     },
     "execution_count": 573,
     "metadata": {},
     "output_type": "execute_result"
    }
   ],
   "source": [
    "f.denominator"
   ]
  },
  {
   "cell_type": "code",
   "execution_count": 596,
   "metadata": {},
   "outputs": [
    {
     "data": {
      "text/plain": [
       "{6: 6, 1: 20, 4: 2}"
      ]
     },
     "execution_count": 596,
     "metadata": {},
     "output_type": "execute_result"
    }
   ],
   "source": [
    "stree"
   ]
  },
  {
   "cell_type": "markdown",
   "metadata": {},
   "source": [
    "# Zoinks"
   ]
  },
  {
   "cell_type": "code",
   "execution_count": 627,
   "metadata": {},
   "outputs": [],
   "source": [
    "def solution(Z,T,D,N):\n",
    "    t = T[0]/T[1]\n",
    "    g = D[0]/D[1]\n",
    "    i = 1\n",
    "    d = {}\n",
    "    while i > 0:\n",
    "        if not can_win(i,Z,t,g,N,d):\n",
    "            i = i + 1\n",
    "        else:\n",
    "            return(i)\n",
    "        \n",
    "        "
   ]
  },
  {
   "cell_type": "code",
   "execution_count": 636,
   "metadata": {},
   "outputs": [],
   "source": [
    "import math\n",
    "#def can_win(m,Z,t,g,N,d,turn):\n",
    "#    if (m,Z,N) in d.keys():\n",
    "#        return(d[(m,Z,N,turn)])\n",
    "#    else:\n",
    "#        if Z <= 0 and N >= 0:\n",
    "#            d[(m,Z,N)] = True\n",
    "#            return(True)\n",
    "#        if Z > 0 and N == 0:\n",
    "#            d[(m,Z,N)] = False\n",
    "#            return(False)\n",
    "#        if N > 0:\n",
    "#            x = math.floor(m*t)\n",
    "#            m1 = m - x\n",
    "#            if m <= 0:\n",
    "#                d[(m,Z,N)] = False\n",
    "#                return(False)\n",
    "#            y = math.floor(Z*g)\n",
    "#            if x == 0 and y == 0:\n",
    "#                d[(m,Z,N)] = False\n",
    "#                return(False)\n",
    "#            if m > 0:\n",
    "#                Z1 = Z - y + x\n",
    "#                N1 = N - 1\n",
    "#                B = can_win(m1,Z1,t,g,N1,d)\n",
    "#                d[(m,Z,N)] = B\n",
    "#                return(B)"
   ]
  },
  {
   "cell_type": "code",
   "execution_count": 640,
   "metadata": {},
   "outputs": [],
   "source": [
    "import math\n",
    "def can_win(m,Z,t,g,N,d):\n",
    "    if (m,Z,N) in d.keys():\n",
    "        return(d[(m,Z,N)])\n",
    "    else:\n",
    "        if Z <= 0:\n",
    "            d[(m,Z,N)] = True\n",
    "            return(True)\n",
    "        if Z > 0 and N == 0:\n",
    "            d[(m,Z,N)] = False\n",
    "            return(False)\n",
    "        if N == 1 and Z > 0:\n",
    "            d[(m,Z,N)] = True\n",
    "            return(True)\n",
    "        if N > 1:\n",
    "            x = math.floor(Z*t)\n",
    "            m1 = m - x\n",
    "            if m1 <= 0:\n",
    "                d[(m,Z,N)] = False\n",
    "                return(False)\n",
    "            y = math.floor(m1*g)\n",
    "            Z1 = Z-y+x\n",
    "            if x == 0 and y == 0:\n",
    "                d[(m,Z,N)] = False\n",
    "                return(False)\n",
    "            if m > 0:\n",
    "                Z1 = Z - y + x\n",
    "                N1 = N - 2\n",
    "                B = can_win(m1,Z1,t,g,N1,d)\n",
    "                d[(m,Z,N)] = B\n",
    "                return(B)"
   ]
  },
  {
   "cell_type": "code",
   "execution_count": 637,
   "metadata": {},
   "outputs": [],
   "source": [
    "d = {}\n",
    "t = 0.5\n",
    "g = 0.5\n",
    "Z = 6\n",
    "m = 1"
   ]
  },
  {
   "cell_type": "code",
   "execution_count": 638,
   "metadata": {},
   "outputs": [
    {
     "data": {
      "text/plain": [
       "False"
      ]
     },
     "execution_count": 638,
     "metadata": {},
     "output_type": "execute_result"
    }
   ],
   "source": [
    "can_win(m,Z,t,g,1,d)"
   ]
  },
  {
   "cell_type": "code",
   "execution_count": 626,
   "metadata": {},
   "outputs": [
    {
     "name": "stdout",
     "output_type": "stream",
     "text": [
      "5\n"
     ]
    }
   ],
   "source": [
    "x = 9\n",
    "if not x == 10:\n",
    "    print(5)"
   ]
  },
  {
   "cell_type": "code",
   "execution_count": 688,
   "metadata": {},
   "outputs": [
    {
     "data": {
      "text/plain": [
       "{(4, 6): -1,\n",
       " (5, 6): -1,\n",
       " (6, 6): -1,\n",
       " (4, 7): -1,\n",
       " (7, 6): -1,\n",
       " (5, 7): -1,\n",
       " (8, 6): -1,\n",
       " (9, 6): -1,\n",
       " (10, 6): -1,\n",
       " (4, 4): -1,\n",
       " (6, 4): -1,\n",
       " (8, 5): -1,\n",
       " (11, 6): -1,\n",
       " (3, 5): -1,\n",
       " (5, 4): -1,\n",
       " (7, 4): -1,\n",
       " (9, 5): -1,\n",
       " (12, 6): -1,\n",
       " (7, 0): 0,\n",
       " (8, 2): 2,\n",
       " (10, 4): 4,\n",
       " (13, 6): 6}"
      ]
     },
     "execution_count": 688,
     "metadata": {},
     "output_type": "execute_result"
    }
   ],
   "source": [
    "T = [1,2]\n",
    "D = [1,2]\n",
    "solution(Z,T,D,9)"
   ]
  },
  {
   "cell_type": "code",
   "execution_count": 685,
   "metadata": {},
   "outputs": [],
   "source": [
    "def solution(Z,T,D,N):\n",
    "    t = T[0]/T[1]\n",
    "    g = D[0]/D[1]\n",
    "    i = 1\n",
    "    d = {}\n",
    "    while i > 0:\n",
    "        if can_win(i,Z,t,g,d,N) == -1:\n",
    "            i = i + 1\n",
    "        else:\n",
    "            return(d)\n",
    "        "
   ]
  },
  {
   "cell_type": "code",
   "execution_count": 687,
   "metadata": {},
   "outputs": [],
   "source": [
    "import math\n",
    "def can_win(m,Z,t,g,d,N):\n",
    "    tmp = math.floor(Z*t)\n",
    "    if tmp >= m:\n",
    "        return(-1)\n",
    "    count = 0\n",
    "    if (m,Z) in d.keys():\n",
    "        return(d[(m,Z)])\n",
    "    else:\n",
    "        if m <= 0:\n",
    "            d[(m,Z)] = -1\n",
    "            return(-1)\n",
    "        if Z <= 0:\n",
    "            d[(m,Z)] = 0 \n",
    "            return(0)\n",
    "        if Z > 0:\n",
    "            x = math.floor(Z*t)\n",
    "            m1 = m - x\n",
    "            if m1 <= 0:\n",
    "                d[(m,Z)] = -1\n",
    "                return(-1)\n",
    "            y = math.floor(m1*g)\n",
    "            Z1 = Z-y+x\n",
    "            if x == 0 and y == 0:\n",
    "                d[(m,Z)] = -1\n",
    "                return(-1)\n",
    "            if m1 > 0:\n",
    "                B = can_win(m1,Z1,t,g,d,N)\n",
    "                if B == -1 or B + 2 > N:\n",
    "                    d[(m,Z)] = -1\n",
    "                    return(-1)\n",
    "                else:    \n",
    "                    d[(m,Z)] = B + 2\n",
    "                    return(B+2)"
   ]
  },
  {
   "cell_type": "code",
   "execution_count": 677,
   "metadata": {},
   "outputs": [
    {
     "data": {
      "text/plain": [
       "-1"
      ]
     },
     "execution_count": 677,
     "metadata": {},
     "output_type": "execute_result"
    }
   ],
   "source": [
    "d = {}\n",
    "can_win(4,6,.5,.5,d,6)"
   ]
  },
  {
   "cell_type": "code",
   "execution_count": 642,
   "metadata": {},
   "outputs": [],
   "source": [
    "def ex():\n",
    "    i = 5\n",
    "    if i > 4:\n",
    "        return(6)\n",
    "    if i == 5:\n",
    "        return('No')"
   ]
  },
  {
   "cell_type": "code",
   "execution_count": 678,
   "metadata": {},
   "outputs": [
    {
     "data": {
      "text/plain": [
       "{(1, 9): -1, (4, 6): -1}"
      ]
     },
     "execution_count": 678,
     "metadata": {},
     "output_type": "execute_result"
    }
   ],
   "source": [
    "d"
   ]
  },
  {
   "cell_type": "markdown",
   "metadata": {},
   "source": [
    "# Its a cover up"
   ]
  },
  {
   "cell_type": "code",
   "execution_count": 1,
   "metadata": {},
   "outputs": [],
   "source": [
    "def get_sums(A):\n",
    "    s = {}  \n",
    "    s[-1] = 0\n",
    "    count = 0\n",
    "    for j in range(len(A)):\n",
    "        count = count + A[j]\n",
    "        s[j] = count\n",
    "    return(s)    "
   ]
  },
  {
   "cell_type": "code",
   "execution_count": 67,
   "metadata": {},
   "outputs": [],
   "source": [
    "def best_cover_score(A,i,s,N,d,base):\n",
    "    if i in d.keys():\n",
    "        return(d[i])\n",
    "    if len(A) == 1:\n",
    "        return(A[0],'bad')\n",
    "    elif len(A) == 2:\n",
    "        m = max(A[0]+A[1],A[0]*A[1])\n",
    "        if m == A[0]*A[1]:\n",
    "            return(m,'good')\n",
    "        else:\n",
    "            return(m,'bad')\n",
    "    else:\n",
    "        m = base\n",
    "        for j in range(1,len(A)):\n",
    "            print(i,j)\n",
    "            tmpA = A[j:]\n",
    "            print('tmpA : ' +str(tmpA))\n",
    "            B = A[:j]\n",
    "            print('B : ' +str(B))\n",
    "            if j > 0:\n",
    "                valueB = s[j-1] - s[i-1]\n",
    "            else:\n",
    "                valueB = 0\n",
    "            print('valueB = ' + str(valueB)) \n",
    "            x,x1 = best_cover_score(tmpA,i+j,s,N,d,base)\n",
    "            sumtmpA = s[N-1]-s[j-1]\n",
    "            print('sumtmpA = ' + str(sumtmpA))\n",
    "            if len(tmpA) > 1:\n",
    "                y = (sumtmpA*valueB) + x\n",
    "            else:\n",
    "                y = (sumtmpA*valueB)\n",
    "            if x1 == 'bad' and j == 1 and i == 0: \n",
    "                y = 0\n",
    "            m = max(m,y)\n",
    "            if x1 == 'bad' and len(B) == 1:\n",
    "                d[i] = (m,x1)\n",
    "                return(m,x1)\n",
    "            else:\n",
    "                d[i] = (m,'good')\n",
    "                return(m,'good')"
   ]
  },
  {
   "cell_type": "code",
   "execution_count": 116,
   "metadata": {},
   "outputs": [],
   "source": [
    "def solution(A):\n",
    "    s = get_sums(A)\n",
    "    N = len(A)\n",
    "    d = {}\n",
    "    if len(A) == 1:\n",
    "        m = 0\n",
    "    elif len(A) == 2: \n",
    "        m = max(0,A[0]*A[1])\n",
    "    else:\n",
    "        m = best_cover_score(A,0,N+1,s,N,d)\n",
    "    return(m)"
   ]
  },
  {
   "cell_type": "code",
   "execution_count": 109,
   "metadata": {},
   "outputs": [],
   "source": [
    "def best_cover_score(A,i,s,N,d):\n",
    "    if i in d.keys():\n",
    "        return(d[i])\n",
    "    if len(A) == 1:\n",
    "        d[i] = 0\n",
    "        return(0)\n",
    "    elif len(A) == 2:\n",
    "        m = max(0,A[0]*A[1])\n",
    "        d[i] = m\n",
    "        return(m) \n",
    "    else:\n",
    "        m = 0\n",
    "        for j in range(1,len(A)):\n",
    "            print(i,j)\n",
    "            tmpA = A[j:]\n",
    "#            print('tmpA : ' +str(tmpA))\n",
    "            B = A[:j]\n",
    "#            print('B : ' +str(B))\n",
    "            valueB = s[i+j-1] - s[i-1]\n",
    "#            print('valueB = ' + str(valueB)) \n",
    "            x = best_cover_score(tmpA,i+j,s,N,d)\n",
    "#            print('x:' + str(x))\n",
    "            sumtmpA = s[N-1]-s[i+j-1]\n",
    "#            print('sumtmpA = ' + str(sumtmpA))\n",
    "            y = (sumtmpA*valueB) + x\n",
    "            m = max(m,y)\n",
    "        d[i] = m\n",
    "        return(m)"
   ]
  },
  {
   "cell_type": "code",
   "execution_count": 2,
   "metadata": {},
   "outputs": [],
   "source": [
    "import math\n",
    "#solution(x)"
   ]
  },
  {
   "cell_type": "code",
   "execution_count": 722,
   "metadata": {},
   "outputs": [
    {
     "data": {
      "text/plain": [
       "[]"
      ]
     },
     "execution_count": 722,
     "metadata": {},
     "output_type": "execute_result"
    }
   ],
   "source": [
    "list(range(1,1))"
   ]
  },
  {
   "cell_type": "code",
   "execution_count": 729,
   "metadata": {},
   "outputs": [
    {
     "data": {
      "text/plain": [
       "[4]"
      ]
     },
     "execution_count": 729,
     "metadata": {},
     "output_type": "execute_result"
    }
   ],
   "source": [
    "A = [1,2,3,4]\n",
    "A[len(A)-1:]"
   ]
  },
  {
   "cell_type": "code",
   "execution_count": 728,
   "metadata": {},
   "outputs": [
    {
     "data": {
      "text/plain": [
       "[]"
      ]
     },
     "execution_count": 728,
     "metadata": {},
     "output_type": "execute_result"
    }
   ],
   "source": [
    "A[:0]"
   ]
  },
  {
   "cell_type": "code",
   "execution_count": 38,
   "metadata": {},
   "outputs": [
    {
     "data": {
      "text/plain": [
       "{-1: 0, 0: 1, 1: 3, 2: 6}"
      ]
     },
     "execution_count": 38,
     "metadata": {},
     "output_type": "execute_result"
    }
   ],
   "source": [
    "get_sums([1,2,3])"
   ]
  },
  {
   "cell_type": "code",
   "execution_count": 106,
   "metadata": {},
   "outputs": [],
   "source": [
    "#x = list(input().split())\n",
    "#x = [int(y) for y in x]"
   ]
  },
  {
   "cell_type": "code",
   "execution_count": 105,
   "metadata": {},
   "outputs": [
    {
     "data": {
      "text/plain": [
       "26957"
      ]
     },
     "execution_count": 105,
     "metadata": {},
     "output_type": "execute_result"
    }
   ],
   "source": [
    "len(x)"
   ]
  },
  {
   "cell_type": "code",
   "execution_count": 184,
   "metadata": {},
   "outputs": [],
   "source": [
    "def solution(A):\n",
    "    s = get_sums(A)\n",
    "    d = {}\n",
    "    N = len(A)\n",
    "    d[N-1] = 0\n",
    "    for i in range(N-2,-1,-1):\n",
    "        A1 = A[i:]\n",
    "        m = 0\n",
    "        for j in range(1,len(A1)):\n",
    "#            print(i,j)\n",
    "            tmpA = A1[j:]\n",
    "#            print('tmpA : ' +str(tmpA))\n",
    "            B1 = A1[:j]\n",
    "#            print('B1 : ' +str(B1))\n",
    "            valueB1 = s[i+j-1] - s[i-1]\n",
    "#            print('valueB = ' + str(valueB1)) \n",
    "            x = d[i+j]\n",
    "#            print('x:' + str(x))\n",
    "            valuetmpA = s[N-1]-s[i+j-1]\n",
    "#            print('valuetmpA = ' + str(valuetmpA))\n",
    "            y = (valuetmpA*valueB1) + x\n",
    "            m = max(m,y)\n",
    "        d[i] = m\n",
    "    return(d[0])    "
   ]
  },
  {
   "cell_type": "code",
   "execution_count": 179,
   "metadata": {},
   "outputs": [
    {
     "name": "stdout",
     "output_type": "stream",
     "text": [
      "1 1\n",
      "tmpA : [3]\n",
      "B1 : [2]\n",
      "valueB = 2\n",
      "x:0\n",
      "valuetmpA = 3\n",
      "0 1\n",
      "tmpA : [2, 3]\n",
      "B1 : [1]\n",
      "valueB = 1\n",
      "x:6\n",
      "valuetmpA = 5\n",
      "0 2\n",
      "tmpA : [3]\n",
      "B1 : [1, 2]\n",
      "valueB = 3\n",
      "x:0\n",
      "valuetmpA = 3\n"
     ]
    },
    {
     "data": {
      "text/plain": [
       "{2: 0, 1: 6, 0: 11}"
      ]
     },
     "execution_count": 179,
     "metadata": {},
     "output_type": "execute_result"
    }
   ],
   "source": [
    "solution([1,2,3])"
   ]
  },
  {
   "cell_type": "code",
   "execution_count": 114,
   "metadata": {},
   "outputs": [
    {
     "data": {
      "text/plain": [
       "[5, 4, 3, 2, 1, 0]"
      ]
     },
     "execution_count": 114,
     "metadata": {},
     "output_type": "execute_result"
    }
   ],
   "source": [
    "list(range(5,-1,-1))"
   ]
  },
  {
   "cell_type": "code",
   "execution_count": 160,
   "metadata": {},
   "outputs": [],
   "source": [
    "def best_cover_score(A,i,j,s,N,d):\n",
    "#    print(i,j)\n",
    "    if i == j:\n",
    "        return(0)\n",
    "    if (i,j) in d.keys():\n",
    "        return(d[(i,j)])\n",
    "    if len(A[i:j]) == 1:\n",
    "        d[(i,j)] = 0\n",
    "        return(0)\n",
    "    elif len(A[i:j]) == 2:\n",
    "        B = A[i:j]\n",
    "        m = max(0,B[0]*B[1])\n",
    "        d[(i,j)] = m\n",
    "        return(m) \n",
    "    else:\n",
    "        m = 0\n",
    "        t = math.floor((i + j)/2)\n",
    "        x = best_cover_score(A,i,t,s,N,d)\n",
    "        y = best_cover_score(A,t,j,s,N,d)\n",
    "        value1 = s[t-1]-s[i-1]\n",
    "        value2 = s[j-1]-s[t-1]\n",
    "        z = (value1*value2) + x + y\n",
    "        m = max(m,z)\n",
    "        d[(i,j)] = m\n",
    "        return(d)"
   ]
  },
  {
   "cell_type": "code",
   "execution_count": 161,
   "metadata": {},
   "outputs": [],
   "source": [
    "def solution(A):\n",
    "    s = get_sums(A)\n",
    "    N = len(A)\n",
    "    d = {}\n",
    "    m = best_cover_score(A,0,N,s,N,d)\n",
    "    return(m)"
   ]
  },
  {
   "cell_type": "code",
   "execution_count": 1,
   "metadata": {},
   "outputs": [],
   "source": [
    "#solution(x)"
   ]
  },
  {
   "cell_type": "code",
   "execution_count": null,
   "metadata": {},
   "outputs": [],
   "source": []
  }
 ],
 "metadata": {
  "kernelspec": {
   "display_name": "Python 3",
   "language": "python",
   "name": "python3"
  },
  "language_info": {
   "codemirror_mode": {
    "name": "ipython",
    "version": 3
   },
   "file_extension": ".py",
   "mimetype": "text/x-python",
   "name": "python",
   "nbconvert_exporter": "python",
   "pygments_lexer": "ipython3",
   "version": "3.7.3"
  }
 },
 "nbformat": 4,
 "nbformat_minor": 2
}
